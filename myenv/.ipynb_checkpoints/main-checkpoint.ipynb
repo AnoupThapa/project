{
 "cells": [
  {
   "cell_type": "code",
   "execution_count": 31,
   "id": "a2ab0169",
   "metadata": {},
   "outputs": [
    {
     "name": "stdout",
     "output_type": "stream",
     "text": [
      "(3, 'SAMI', 30, 'F')\n",
      "(4, 'Sonia', 29, 'F')\n",
      "b\"SELECT * FROM person WHERE starts_with(name,'S') AND age <31;\"\n",
      "[(3, 'SAMI', 30, 'F'), (4, 'Sonia', 29, 'F')]\n"
     ]
    }
   ],
   "source": [
    "import psycopg2\n",
    "\n",
    "# Establish a connection to the PostgreSQL database\n",
    "conn = psycopg2.connect(host=\"localhost\", dbname=\"student\", user=\"postgres\", password=\"123456\", port=5432)\n",
    "\n",
    "# Create a cursor object to interact with the database\n",
    "cur = conn.cursor()\n",
    "\n",
    "# Define and execute the CREATE TABLE query\n",
    "create_table_query = \"\"\"\n",
    "CREATE TABLE IF NOT EXISTS person (\n",
    "    id SERIAL PRIMARY KEY,\n",
    "    name VARCHAR(255),\n",
    "    age INT,\n",
    "    gender CHAR\n",
    ");\n",
    "\"\"\"\n",
    "\n",
    "cur.execute(create_table_query)  # Execute the CREATE TABLE query\n",
    "\n",
    "# Define and execute the INSERT INTO query\n",
    "insert_query = \"\"\"\n",
    "INSERT INTO person (id, name, age, gender) VALUES\n",
    "(1, 'ANOUP', 32, 'M'),\n",
    "(2, 'RAMESH', 33, 'M'),\n",
    "(3, 'SAMI', 30, 'F'),\n",
    "(4,'Sonia',29,'F');\n",
    "\"\"\"\n",
    "\n",
    "cur.execute(\"\"\"SELECT * FROM person WHERE age <31;\"\"\")\n",
    "for row in cur.fetchall():\n",
    "    print(row)\n",
    "\n",
    "sql = cur.mogrify(\"\"\"SELECT * FROM person WHERE starts_with(name,%s) AND age <%s;\"\"\",(\"S\",31))\n",
    "print(sql)\n",
    "cur.execute(sql)\n",
    "print(cur.fetchall())\n",
    "\n",
    "conn.commit()\n",
    "\n",
    "cur.close()\n",
    "conn.close()\n"
   ]
  },
  {
   "cell_type": "code",
   "execution_count": null,
   "id": "70b8cea5",
   "metadata": {},
   "outputs": [],
   "source": []
  }
 ],
 "metadata": {
  "kernelspec": {
   "display_name": "Python 3 (ipykernel)",
   "language": "python",
   "name": "python3"
  },
  "language_info": {
   "codemirror_mode": {
    "name": "ipython",
    "version": 3
   },
   "file_extension": ".py",
   "mimetype": "text/x-python",
   "name": "python",
   "nbconvert_exporter": "python",
   "pygments_lexer": "ipython3",
   "version": "3.11.4"
  }
 },
 "nbformat": 4,
 "nbformat_minor": 5
}
